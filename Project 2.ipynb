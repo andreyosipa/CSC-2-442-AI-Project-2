{
 "cells": [
  {
   "cell_type": "code",
   "execution_count": 1,
   "metadata": {
    "collapsed": true
   },
   "outputs": [],
   "source": [
    "import re"
   ]
  },
  {
   "cell_type": "code",
   "execution_count": 12,
   "metadata": {
    "collapsed": true
   },
   "outputs": [],
   "source": [
    "string = '((((A->B)|C)->D)&F)'"
   ]
  },
  {
   "cell_type": "code",
   "execution_count": 3,
   "metadata": {
    "collapsed": true
   },
   "outputs": [],
   "source": [
    "def contains(a,b):\n",
    "    a = list(a)\n",
    "    b = list(b)\n",
    "    result = True\n",
    "    for element in a:\n",
    "        result = result and (element in b)\n",
    "    return result"
   ]
  },
  {
   "cell_type": "code",
   "execution_count": 4,
   "metadata": {
    "collapsed": true
   },
   "outputs": [],
   "source": [
    "def evaluate(sentence, model):\n",
    "    keys = model.keys()\n",
    "    \n",
    "    #put variables values\n",
    "    for key in keys:\n",
    "        parts = re.search('[~\\(\\&\\|\\-\\>](' + key + ')[\\)\\&\\|\\-\\<]', sentence)\n",
    "        while (parts != None):\n",
    "            part = parts.group(0)\n",
    "            part = part[1:-1]\n",
    "            sentence = sentence.replace(part, model[key])\n",
    "            parts = re.search('[~\\(\\&\\|\\-\\>](' + key + ')[\\)\\&\\|\\-\\<]', sentence)\n",
    "            \n",
    "    #replace values with not ~\n",
    "    not_replacement = {\"~0\" : \"1\", \"~1\" : \"0\"}\n",
    "    for val in not_replacement.keys():\n",
    "        parts = re.search('[\\(\\&\\|\\-\\>]' + val + '[\\)\\&\\|\\-\\<]', sentence)\n",
    "        while parts != None:\n",
    "            part = parts.group(0)\n",
    "            part = part[1:-1]\n",
    "            sentence = sentence.replace(part, not_replacement[val])\n",
    "            parts = re.search('[\\(\\&\\|\\-\\>]' + val + '[\\)\\&\\|\\-\\<]', sentence)\n",
    "    \n",
    "    #compute sentence value\n",
    "    parts = re.search('(\\([^\\(\\)]*\\))', sentence)\n",
    "    while parts != None:\n",
    "        part = parts.group(0)\n",
    "        sentence = sentence.replace(part, evaluate_simple(part))\n",
    "        parts = re.search('(\\([^\\(\\)]*\\))', sentence)\n",
    "    return bool(int(sentence))"
   ]
  },
  {
   "cell_type": "code",
   "execution_count": 5,
   "metadata": {
    "collapsed": false
   },
   "outputs": [],
   "source": [
    "def evaluate_simple(sentence):\n",
    "    if sentence[0] == '(' and sentence[-1] == ')':\n",
    "        sentence = sentence[1:-1]\n",
    "    \n",
    "    #eval and = &\n",
    "    if sentence == '0&0' or sentence== '0&1' or sentence == '1&0':\n",
    "        return '0'\n",
    "    else:\n",
    "        if sentence == '1&1':\n",
    "            return '1'\n",
    "    \n",
    "    #eval or = |\n",
    "    if sentence == '1|1' or sentence== '0|1' or sentence == '1|0':\n",
    "        return '1'\n",
    "    else:\n",
    "        if sentence == '0|0':\n",
    "            return '0'\n",
    "    \n",
    "    #eval implication = ->\n",
    "    if sentence == '0->0' or sentence== '0->1' or sentence == '1->1':\n",
    "        return '1'\n",
    "    else:\n",
    "        if sentence == '1->0':\n",
    "            return '0'\n",
    "    \n",
    "    #eval implication = <-\n",
    "    if sentence == '0<-0' or sentence== '1<-0' or sentence == '1<-1':\n",
    "        return '1'\n",
    "    else:\n",
    "        if sentence == '0<-1':\n",
    "            return '0'\n",
    "    \n",
    "    #eval equivalence = <->\n",
    "    if sentence == '0<->0' or sentence == '1<->1':\n",
    "        return '1'\n",
    "    else:\n",
    "        if sentence == '1<->0' or sentence == '0<->1':\n",
    "            return '0'\n",
    "    \n",
    "    return sentence"
   ]
  },
  {
   "cell_type": "code",
   "execution_count": 6,
   "metadata": {
    "collapsed": true
   },
   "outputs": [],
   "source": [
    "def evaluate_simple_test():\n",
    "    val = [\"0\", \"1\"]\n",
    "    operators = ['&', '|', '->', '<-', '<->']\n",
    "    for op in operators:\n",
    "        for v1 in val:\n",
    "            for v2 in val:\n",
    "                sentence = '(' + v1 + op + v2 + ')'\n",
    "                res = evaluate_simple(sentence)\n",
    "                print sentence + \"   \" + res\n",
    "                sentence = v1 + op + v2\n",
    "                res = evaluate_simple(sentence)\n",
    "                print sentence + \"   \" + res"
   ]
  },
  {
   "cell_type": "code",
   "execution_count": 30,
   "metadata": {
    "collapsed": false
   },
   "outputs": [
    {
     "data": {
      "text/plain": [
       "False"
      ]
     },
     "execution_count": 30,
     "metadata": {},
     "output_type": "execute_result"
    }
   ],
   "source": [
    "evaluate(string, model)"
   ]
  },
  {
   "cell_type": "code",
   "execution_count": 26,
   "metadata": {
    "collapsed": true
   },
   "outputs": [],
   "source": [
    "model = {\"A\" : \"0\", \"B\" : \"1\", \"C\" : \"0\", \"D\" : \"0\", \"F\" : \"1\"}"
   ]
  },
  {
   "cell_type": "code",
   "execution_count": 18,
   "metadata": {
    "collapsed": false
   },
   "outputs": [
    {
     "data": {
      "text/plain": [
       "'0'"
      ]
     },
     "execution_count": 18,
     "metadata": {},
     "output_type": "execute_result"
    }
   ],
   "source": [
    "evaluate_simple('(0&0)')"
   ]
  },
  {
   "cell_type": "code",
   "execution_count": 19,
   "metadata": {
    "collapsed": true
   },
   "outputs": [],
   "source": [
    "def extract_symbols(sentence):\n",
    "    result = []\n",
    "    symbols = re.search('[\\(\\&\\|\\>\\-\\~][^\\(\\)\\&\\|\\<\\>\\-\\~]+[\\)\\&\\|\\<\\-]', sentence)\n",
    "    while (symbols != None):\n",
    "        symbol = symbols.group(0)\n",
    "        symbol = symbol[1:-1]\n",
    "        result.append(symbol)\n",
    "        sentence = sentence.replace(symbol, '')\n",
    "        symbols = re.search('[\\(\\&\\|\\>\\-\\~][^\\(\\)\\&\\|\\<\\>\\-\\~]+[\\)\\&\\|\\<\\-]', sentence)\n",
    "    return result"
   ]
  },
  {
   "cell_type": "code",
   "execution_count": 20,
   "metadata": {
    "collapsed": true
   },
   "outputs": [],
   "source": [
    "def tt_entails(KB, sentence):\n",
    "    #input: KB is list of sentences(str)\n",
    "    #       sentence is a str\n",
    "    \n",
    "    #find all symbols\n",
    "    symbols = extract_symbols(sentence)\n",
    "    for s in KB:\n",
    "        symbols += extract_symbols(s)\n",
    "    symbols = list(set(symbols))\n",
    "    \n",
    "    return tt_check_all(KB, sentence, symbols, {})"
   ]
  },
  {
   "cell_type": "code",
   "execution_count": 21,
   "metadata": {
    "collapsed": true
   },
   "outputs": [],
   "source": [
    "def satisfied(KB, model):\n",
    "    if type(KB) == list:\n",
    "        return satisfied_kb(KB, model)\n",
    "    if type(KB) == str:\n",
    "        return evaluate(KB, model)\n",
    "\n",
    "def satisfied_kb(KB, model):\n",
    "    symbols = []\n",
    "    for s in KB:\n",
    "        symbols += extract_symbols(s)\n",
    "    symbols = set(symbols)\n",
    "    \n",
    "    if contains(symbols, set(model.keys())):\n",
    "        result = True\n",
    "        for s in KB:\n",
    "            result = result and evaluate(s, model)\n",
    "        return result\n",
    "    else:\n",
    "        return False"
   ]
  },
  {
   "cell_type": "code",
   "execution_count": 22,
   "metadata": {
    "collapsed": false
   },
   "outputs": [],
   "source": [
    "def tt_check_all(KB, sentence, symbols, model):\n",
    "    if len(symbols) == 0:\n",
    "        if satisfied(KB, model):\n",
    "            return satisfied(sentence, model)\n",
    "        else:\n",
    "            return True\n",
    "    else:\n",
    "        result = True\n",
    "        model[symbols[0]] = '0'\n",
    "        result = result and tt_check_all(KB, sentence, symbols[1:], model)\n",
    "        model[symbols[0]] = '1'\n",
    "        result = result and tt_check_all(KB, sentence, symbols[1:], model)\n",
    "        return result"
   ]
  },
  {
   "cell_type": "code",
   "execution_count": 23,
   "metadata": {
    "collapsed": true
   },
   "outputs": [],
   "source": [
    "KB = ['(A|B)', '(B&F)', '(C->F)']"
   ]
  },
  {
   "cell_type": "code",
   "execution_count": 32,
   "metadata": {
    "collapsed": false
   },
   "outputs": [
    {
     "data": {
      "text/plain": [
       "True"
      ]
     },
     "execution_count": 32,
     "metadata": {},
     "output_type": "execute_result"
    }
   ],
   "source": [
    "satisfied(KB,model)"
   ]
  },
  {
   "cell_type": "code",
   "execution_count": 33,
   "metadata": {
    "collapsed": false
   },
   "outputs": [
    {
     "data": {
      "text/plain": [
       "{'A': '0', 'B': '1', 'C': '0', 'D': '0', 'F': '1'}"
      ]
     },
     "execution_count": 33,
     "metadata": {},
     "output_type": "execute_result"
    }
   ],
   "source": [
    "model"
   ]
  },
  {
   "cell_type": "code",
   "execution_count": 115,
   "metadata": {
    "collapsed": false
   },
   "outputs": [],
   "source": [
    "del(model['G'])"
   ]
  },
  {
   "cell_type": "code",
   "execution_count": 34,
   "metadata": {
    "collapsed": true
   },
   "outputs": [],
   "source": [
    "KB1 = ['(P)', '(P->Q)']\n",
    "sentence1 = '(Q)'"
   ]
  },
  {
   "cell_type": "code",
   "execution_count": 35,
   "metadata": {
    "collapsed": false
   },
   "outputs": [
    {
     "data": {
      "text/plain": [
       "True"
      ]
     },
     "execution_count": 35,
     "metadata": {},
     "output_type": "execute_result"
    }
   ],
   "source": [
    "tt_entails(KB1, sentence1)"
   ]
  },
  {
   "cell_type": "code",
   "execution_count": 36,
   "metadata": {
    "collapsed": false
   },
   "outputs": [
    {
     "data": {
      "text/plain": [
       "True"
      ]
     },
     "execution_count": 36,
     "metadata": {},
     "output_type": "execute_result"
    }
   ],
   "source": [
    "evaluate('(Q)',{'Q' : '1'})"
   ]
  },
  {
   "cell_type": "code",
   "execution_count": 37,
   "metadata": {
    "collapsed": false
   },
   "outputs": [
    {
     "data": {
      "text/plain": [
       "'1'"
      ]
     },
     "execution_count": 37,
     "metadata": {},
     "output_type": "execute_result"
    }
   ],
   "source": [
    "evaluate_simple('(1)')"
   ]
  },
  {
   "cell_type": "code",
   "execution_count": null,
   "metadata": {
    "collapsed": true
   },
   "outputs": [],
   "source": []
  }
 ],
 "metadata": {
  "kernelspec": {
   "display_name": "Python 2",
   "language": "python",
   "name": "python2"
  },
  "language_info": {
   "codemirror_mode": {
    "name": "ipython",
    "version": 2
   },
   "file_extension": ".py",
   "mimetype": "text/x-python",
   "name": "python",
   "nbconvert_exporter": "python",
   "pygments_lexer": "ipython2",
   "version": "2.7.10"
  }
 },
 "nbformat": 4,
 "nbformat_minor": 0
}
