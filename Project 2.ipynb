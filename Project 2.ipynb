{
 "cells": [
  {
   "cell_type": "code",
   "execution_count": 1,
   "metadata": {
    "collapsed": true
   },
   "outputs": [],
   "source": [
    "import re"
   ]
  },
  {
   "cell_type": "code",
   "execution_count": 3,
   "metadata": {
    "collapsed": true
   },
   "outputs": [],
   "source": [
    "def contains(a,b):\n",
    "    a = list(a)\n",
    "    b = list(b)\n",
    "    result = True\n",
    "    for element in a:\n",
    "        result = result and (element in b)\n",
    "    return result"
   ]
  },
  {
   "cell_type": "code",
   "execution_count": 107,
   "metadata": {
    "collapsed": true
   },
   "outputs": [],
   "source": [
    "def replace_negated(sentence):\n",
    "    #remove negations from sentence with values placed\n",
    "    not_replacement = {\"~0\" : \"1\", \"~1\" : \"0\"}\n",
    "    for val in not_replacement.keys():\n",
    "        not_parts = re.search('[\\~\\(\\&\\|\\-\\>]' + val + '[\\)\\&\\|\\-\\<]', sentence)\n",
    "        while not_parts != None:\n",
    "            not_part = not_parts.group(0)\n",
    "            not_part = not_part[1:-1]\n",
    "            sentence = sentence.replace(not_part, not_replacement[val])\n",
    "            sentence = simplify(sentence)\n",
    "            not_parts = re.search('[\\(\\&\\|\\-\\>]' + val + '[\\)\\&\\|\\-\\<]', sentence)\n",
    "    if '~' in sentence:\n",
    "        sentence = replace_negated(sentence)\n",
    "    return sentence"
   ]
  },
  {
   "cell_type": "code",
   "execution_count": 99,
   "metadata": {
    "collapsed": true
   },
   "outputs": [],
   "source": [
    "def simplify(sentence):\n",
    "    parts = re.search('\\([^\\~\\<\\>\\(\\)\\-\\&\\|]*\\)', sentence)\n",
    "    while parts != None:\n",
    "        sentence = sentence.replace(parts.group(0), parts.group(0)[1:-1])\n",
    "        parts = re.search('\\([^\\~\\<\\>\\(\\)\\-\\&\\|]*\\)', sentence)\n",
    "    return sentence"
   ]
  },
  {
   "cell_type": "code",
   "execution_count": 194,
   "metadata": {
    "collapsed": true
   },
   "outputs": [],
   "source": [
    "def splitted(sentence, op):\n",
    "    #check if sentence is of form (P op Q), where P and Q are valid formulas and op is given operation\n",
    "    if sentence[0] == '(':\n",
    "        sentence = sentence[1:-1]\n",
    "    counter = 0\n",
    "    for idx in range(len(sentence)):\n",
    "        if sentence[idx] == '(':\n",
    "            counter += 1\n",
    "        else:\n",
    "            if sentence[idx] == ')':\n",
    "                counter -= 1\n",
    "            else:\n",
    "                if (counter == 0) and idx + len(op) <= len(sentence):\n",
    "                    flag = True\n",
    "                    for op_idx in range(len(op)):\n",
    "                        flag = flag and sentence[op_idx + idx] == op[op_idx]\n",
    "                    if flag:\n",
    "                        return [construct_sentence(sentence[:idx]), construct_sentence(sentence[idx+len(op):])]\n",
    "    return None"
   ]
  },
  {
   "cell_type": "code",
   "execution_count": 184,
   "metadata": {
    "collapsed": true
   },
   "outputs": [],
   "source": [
    "def construct_sentence(s):\n",
    "    if s[0] != '(':\n",
    "        return '(' + s + ')'\n",
    "    else:\n",
    "        return s"
   ]
  },
  {
   "cell_type": "code",
   "execution_count": 102,
   "metadata": {
    "collapsed": false
   },
   "outputs": [],
   "source": [
    "def evaluate(sentence, model):\n",
    "    keys = model.keys()\n",
    "    \n",
    "    #put variables values\n",
    "    for key in keys:\n",
    "        parts = re.search('[~\\(\\&\\|\\-\\>](' + key + ')[\\)\\&\\|\\-\\<]', sentence)\n",
    "        while (parts != None):\n",
    "            part = parts.group(0)\n",
    "            part = part[1:-1]\n",
    "            sentence = sentence.replace(part, model[key])\n",
    "            parts = re.search('[~\\(\\&\\|\\-\\>](' + key + ')[\\)\\&\\|\\-\\<]', sentence)\n",
    "            \n",
    "    sentence = simplify(sentence)\n",
    "    sentence = replace_negated(sentence)\n",
    "    \n",
    "    #compute sentence value\n",
    "    parts = re.search('(\\([^\\(\\)]*\\))', sentence)\n",
    "    while parts != None:\n",
    "        part = parts.group(0)\n",
    "        sentence = sentence.replace(part, evaluate_simple(part))\n",
    "        sentence = replace_negated(sentence)\n",
    "        sentence = simplify(sentence)\n",
    "        parts = re.search('(\\([^\\(\\)]*\\))', sentence)\n",
    "    return bool(int(sentence))"
   ]
  },
  {
   "cell_type": "code",
   "execution_count": 5,
   "metadata": {
    "collapsed": false
   },
   "outputs": [],
   "source": [
    "def evaluate_simple(sentence):\n",
    "    if sentence[0] == '(' and sentence[-1] == ')':\n",
    "        sentence = sentence[1:-1]\n",
    "    \n",
    "    #eval and = &\n",
    "    if sentence == '0&0' or sentence== '0&1' or sentence == '1&0':\n",
    "        return '0'\n",
    "    else:\n",
    "        if sentence == '1&1':\n",
    "            return '1'\n",
    "    \n",
    "    #eval or = |\n",
    "    if sentence == '1|1' or sentence== '0|1' or sentence == '1|0':\n",
    "        return '1'\n",
    "    else:\n",
    "        if sentence == '0|0':\n",
    "            return '0'\n",
    "    \n",
    "    #eval implication = ->\n",
    "    if sentence == '0->0' or sentence== '0->1' or sentence == '1->1':\n",
    "        return '1'\n",
    "    else:\n",
    "        if sentence == '1->0':\n",
    "            return '0'\n",
    "    \n",
    "    #eval equivalence = <->\n",
    "    if sentence == '0<->0' or sentence == '1<->1':\n",
    "        return '1'\n",
    "    else:\n",
    "        if sentence == '1<->0' or sentence == '0<->1':\n",
    "            return '0'\n",
    "    \n",
    "    return sentence"
   ]
  },
  {
   "cell_type": "code",
   "execution_count": 6,
   "metadata": {
    "collapsed": true
   },
   "outputs": [],
   "source": [
    "def evaluate_simple_test():\n",
    "    val = [\"0\", \"1\"]\n",
    "    operators = ['&', '|', '->', '<-', '<->']\n",
    "    for op in operators:\n",
    "        for v1 in val:\n",
    "            for v2 in val:\n",
    "                sentence = '(' + v1 + op + v2 + ')'\n",
    "                res = evaluate_simple(sentence)\n",
    "                print sentence + \"   \" + res\n",
    "                sentence = v1 + op + v2\n",
    "                res = evaluate_simple(sentence)\n",
    "                print sentence + \"   \" + res"
   ]
  },
  {
   "cell_type": "code",
   "execution_count": 19,
   "metadata": {
    "collapsed": true
   },
   "outputs": [],
   "source": [
    "def extract_symbols(sentence):\n",
    "    result = []\n",
    "    symbols = re.search('[\\(\\&\\|\\>\\-\\~][^\\(\\)\\&\\|\\<\\>\\-\\~]+[\\)\\&\\|\\<\\-]', sentence)\n",
    "    while (symbols != None):\n",
    "        symbol = symbols.group(0)\n",
    "        symbol = symbol[1:-1]\n",
    "        result.append(symbol)\n",
    "        sentence = sentence.replace(symbol, '')\n",
    "        symbols = re.search('[\\(\\&\\|\\>\\-\\~][^\\(\\)\\&\\|\\<\\>\\-\\~]+[\\)\\&\\|\\<\\-]', sentence)\n",
    "    return result"
   ]
  },
  {
   "cell_type": "code",
   "execution_count": 20,
   "metadata": {
    "collapsed": true
   },
   "outputs": [],
   "source": [
    "def tt_entails(KB, sentence):\n",
    "    #input: KB is list of sentences(str)\n",
    "    #       sentence is a str\n",
    "    \n",
    "    #find all symbols\n",
    "    symbols = extract_symbols(sentence)\n",
    "    for s in KB:\n",
    "        symbols += extract_symbols(s)\n",
    "    symbols = list(set(symbols))\n",
    "    \n",
    "    return tt_check_all(KB, sentence, symbols, {})"
   ]
  },
  {
   "cell_type": "code",
   "execution_count": 21,
   "metadata": {
    "collapsed": true
   },
   "outputs": [],
   "source": [
    "def satisfied(KB, model):\n",
    "    if type(KB) == list:\n",
    "        return satisfied_kb(KB, model)\n",
    "    if type(KB) == str:\n",
    "        return evaluate(KB, model)\n",
    "\n",
    "def satisfied_kb(KB, model):\n",
    "    symbols = []\n",
    "    for s in KB:\n",
    "        symbols += extract_symbols(s)\n",
    "    symbols = set(symbols)\n",
    "    \n",
    "    if contains(symbols, set(model.keys())):\n",
    "        result = True\n",
    "        for s in KB:\n",
    "            result = result and evaluate(s, model)\n",
    "        return result\n",
    "    else:\n",
    "        return False"
   ]
  },
  {
   "cell_type": "code",
   "execution_count": 22,
   "metadata": {
    "collapsed": false
   },
   "outputs": [],
   "source": [
    "def tt_check_all(KB, sentence, symbols, model):\n",
    "    if len(symbols) == 0:\n",
    "        if satisfied(KB, model):\n",
    "            return satisfied(sentence, model)\n",
    "        else:\n",
    "            return True\n",
    "    else:\n",
    "        result = True\n",
    "        model[symbols[0]] = '0'\n",
    "        result = result and tt_check_all(KB, sentence, symbols[1:], model)\n",
    "        model[symbols[0]] = '1'\n",
    "        result = result and tt_check_all(KB, sentence, symbols[1:], model)\n",
    "        return result"
   ]
  },
  {
   "cell_type": "code",
   "execution_count": 72,
   "metadata": {
    "collapsed": true
   },
   "outputs": [],
   "source": [
    "string = '(((~(A->B)|C)->D)&F)'"
   ]
  },
  {
   "cell_type": "code",
   "execution_count": 74,
   "metadata": {
    "collapsed": false
   },
   "outputs": [
    {
     "data": {
      "text/plain": [
       "True"
      ]
     },
     "execution_count": 74,
     "metadata": {},
     "output_type": "execute_result"
    }
   ],
   "source": [
    "evaluate(string,model)"
   ]
  },
  {
   "cell_type": "code",
   "execution_count": 94,
   "metadata": {
    "collapsed": true
   },
   "outputs": [],
   "source": [
    "model = {\"A\" : \"0\", \"B\" : \"1\", \"C\" : \"0\", \"D\" : \"0\", \"F\" : \"1\"}"
   ]
  },
  {
   "cell_type": "code",
   "execution_count": 57,
   "metadata": {
    "collapsed": true
   },
   "outputs": [],
   "source": [
    "KB = ['(A|B)', '(B&F)', '(~C->F)']"
   ]
  },
  {
   "cell_type": "code",
   "execution_count": 58,
   "metadata": {
    "collapsed": false
   },
   "outputs": [
    {
     "data": {
      "text/plain": [
       "True"
      ]
     },
     "execution_count": 58,
     "metadata": {},
     "output_type": "execute_result"
    }
   ],
   "source": [
    "satisfied(KB,model)"
   ]
  },
  {
   "cell_type": "code",
   "execution_count": 34,
   "metadata": {
    "collapsed": true
   },
   "outputs": [],
   "source": [
    "KB1 = ['(P)', '(P->Q)']\n",
    "sentence1 = '(Q)'"
   ]
  },
  {
   "cell_type": "code",
   "execution_count": 35,
   "metadata": {
    "collapsed": false
   },
   "outputs": [
    {
     "data": {
      "text/plain": [
       "True"
      ]
     },
     "execution_count": 35,
     "metadata": {},
     "output_type": "execute_result"
    }
   ],
   "source": [
    "tt_entails(KB1, sentence1)"
   ]
  },
  {
   "cell_type": "code",
   "execution_count": 214,
   "metadata": {
    "collapsed": true
   },
   "outputs": [],
   "source": [
    "def cnf_to_clauses(cnf):\n",
    "    #given string with cnf conver it to list of clauses\n",
    "    #note: the resulting clauses have less bracketing then it is required by convert_to_cnf as we allow A|B|C|D|E etc.\n",
    "    if cnf[0] == '(':\n",
    "        cnf = cnf[1:-1]\n",
    "    cnf = cnf.split('&')\n",
    "    result = []\n",
    "    for clause in cnf:\n",
    "        clause = re.sub('\\(|\\)', '', clause)\n",
    "        result.append('(' + clause + ')')\n",
    "    return result"
   ]
  },
  {
   "cell_type": "code",
   "execution_count": 215,
   "metadata": {
    "collapsed": true
   },
   "outputs": [],
   "source": [
    "def convert_to_cnf(sentence):\n",
    "    #some changes to form of sentence:\n",
    "    #     replace (v) with v, where v is valiable\n",
    "    #     add outer brackets if we do not have them\n",
    "    parts = re.search('\\([^\\~\\<\\>\\(\\)\\-\\&\\|]*\\)', sentence)\n",
    "    while parts != None:\n",
    "        sentence = sentence.replace(parts.group(0), parts.group(0)[1:-1])\n",
    "        parts = re.search('\\([^\\~\\<\\>\\(\\)\\-\\&\\|]*\\)', sentence)\n",
    "    if sentence[0] != '(':\n",
    "        sentence = '(' + sentence + ')'\n",
    "    sentence = simplify(sentence)\n",
    "    \n",
    "    print sentence\n",
    "    \n",
    "    #case 1: sentence is just variable:\n",
    "    parts = re.search('^\\([^\\~\\(\\)\\<\\-\\>\\&\\|]*\\)$', sentence)\n",
    "    if parts != None:\n",
    "        return sentence\n",
    "    \n",
    "    #case 2: sentence is (V1&V2), where Vi are variables\n",
    "    parts = re.search('^\\((\\~?[^\\(\\)\\<\\>\\-\\&\\|]*)\\&(\\~?[^\\(\\)\\<\\>\\-\\&\\|]*)\\)$', sentence)\n",
    "    if parts != None:\n",
    "        return '((' + parts.group(1) + ')&(' + parts.group(2) + '))'\n",
    "    \n",
    "    #case 3: sentence is (V1&V2), where Vi are formulas\n",
    "    #parts = re.search('^\\((\\~?\\(.*\\))\\&(\\~?\\(.*\\))\\)$', sentence)\n",
    "    split = splitted(sentence, '&')\n",
    "    if split != None:\n",
    "        return '(' + construct_sentence(convert_to_cnf(split[0])) + '&' + construct_sentence(convert_to_cnf(split[1])) + ')'\n",
    "    \n",
    "    #case 4: sentence is (V1|V2), where Vi are variables\n",
    "    parts = re.search('^\\((\\~?[^\\(\\)\\<\\>\\-\\&\\|]*)\\|(\\~?[^\\(\\)\\<\\>\\-\\&\\|]*)\\)$', sentence)\n",
    "    if parts != None:\n",
    "        return sentence\n",
    "    \n",
    "    #case 5: sentence is (V1|V2), where Vi are formulas\n",
    "    #parts = re.search('^\\((\\~?\\(.*\\))\\|(\\~?\\(.*\\))\\)$', sentence)\n",
    "    split = splitted(sentence, '|')\n",
    "    if split != None:\n",
    "        #find cnfs for both sides\n",
    "        cnf_l = construct_sentence(convert_to_cnf(split[0]))\n",
    "        cnf_r = construct_sentence(convert_to_cnf(split[1]))\n",
    "        #splits cnf into lists of clauses\n",
    "        cnf_l = cnf_to_clauses(cnf_l)\n",
    "        cnf_r = cnf_to_clauses(cnf_r)\n",
    "        result = '('\n",
    "        for left_particle in cnf_l:\n",
    "            for right_particle in cnf_r:\n",
    "                result = result + '(' + construct_sentence(left_particle) + '|' + construct_sentence(right_particle) + ')&' \n",
    "        result = result[:-1]\n",
    "        result += ')'\n",
    "        return result\n",
    "    \n",
    "    #case 6: sentence is negated: (~V), where V is a varible\n",
    "    parts = re.search('^\\(\\~[^\\~\\<\\>\\(\\)\\-\\&\\|]*\\)$', sentence)\n",
    "    if parts != None:\n",
    "        return sentence\n",
    "    \n",
    "    #case 7: sentence is doubly negated: (~(~V)) or (~(~(V))) or (~~V) or (~~(V)), where V is a formula or variable\n",
    "    parts = re.search('^\\(\\~\\~(.*)\\)$', sentence)\n",
    "    if parts != None:\n",
    "        return convert_to_cnf(parts.group(1))\n",
    "    parts = re.search('^\\(\\~\\(\\~(.*)\\)\\)$', sentence)\n",
    "    if parts != None:\n",
    "        return convert_to_cnf(parts.group(1))\n",
    "    \n",
    "    #case 8: sentence is of form (~(P&Q)), where P and Q are formulas or variables\n",
    "    parts = re.search('^\\(\\~(\\(.*\\&.*\\))\\)$', sentence)\n",
    "    if parts != None:\n",
    "        split = splitted(parts.group(1),'&')\n",
    "        if split != None:\n",
    "            return convert_to_cnf('(~' + split[0] + '|~' + split[1] + ')')\n",
    "    \n",
    "    #case 9: sentence is of form (~(P|Q)), where P and Q are formulas or variables\n",
    "    parts = re.search('^\\(\\~(\\(.*\\|.*\\))\\)$', sentence)\n",
    "    if parts != None:\n",
    "        split = splitted(parts.group(1),'|')\n",
    "        if split != None:\n",
    "            return convert_to_cnf('(~' + split[0] + '&~' + split[1] + ')')\n",
    "    \n",
    "    #case 10: sentence is of form (P->Q), where P and Q are formulas or variables\n",
    "    split = splitted(sentence, '->')\n",
    "    if split != None:\n",
    "        return convert_to_cnf('(~' + split[0] + '|' + split[1] + ')')\n",
    "    \n",
    "    #case 11: sentence is of form (P<->Q), where P and Q are formulas or variables\n",
    "    split = splitted(sentence, '<->')\n",
    "    if split != None:\n",
    "        return convert_to_cnf('((' + split[0] + '&' + split[1] + ')|(~' + split[0] + '&' + split[1] + '))')\n",
    "    \n",
    "    return sentence"
   ]
  },
  {
   "cell_type": "code",
   "execution_count": 70,
   "metadata": {
    "collapsed": false
   },
   "outputs": [],
   "source": [
    "t = re.search('^\\((\\(.*\\))\\&(\\(.*\\))\\)$', '((A&B)&(C&D))')"
   ]
  },
  {
   "cell_type": "code",
   "execution_count": 71,
   "metadata": {
    "collapsed": false
   },
   "outputs": [
    {
     "data": {
      "text/plain": [
       "'(A&B)'"
      ]
     },
     "execution_count": 71,
     "metadata": {},
     "output_type": "execute_result"
    }
   ],
   "source": [
    "t.group(1)"
   ]
  },
  {
   "cell_type": "code",
   "execution_count": 187,
   "metadata": {
    "collapsed": false
   },
   "outputs": [
    {
     "name": "stdout",
     "output_type": "stream",
     "text": [
      "(~(A&B)&(A&B))\n",
      "(~(A&B))\n",
      "(~A|~B)\n",
      "(A&B)\n"
     ]
    },
    {
     "data": {
      "text/plain": [
       "'((~A|~B)&((A)&(B)))'"
      ]
     },
     "execution_count": 187,
     "metadata": {},
     "output_type": "execute_result"
    }
   ],
   "source": [
    "convert_to_cnf('(~(A&B)&(A&B))')"
   ]
  },
  {
   "cell_type": "code",
   "execution_count": 209,
   "metadata": {
    "collapsed": false
   },
   "outputs": [
    {
     "name": "stdout",
     "output_type": "stream",
     "text": [
      "(~A&~B)\n"
     ]
    },
    {
     "data": {
      "text/plain": [
       "'((~A)&(~B))'"
      ]
     },
     "execution_count": 209,
     "metadata": {},
     "output_type": "execute_result"
    }
   ],
   "source": [
    "convert_to_cnf('(~A&~B)')"
   ]
  },
  {
   "cell_type": "code",
   "execution_count": 218,
   "metadata": {
    "collapsed": false
   },
   "outputs": [
    {
     "name": "stdout",
     "output_type": "stream",
     "text": [
      "(((P1&P2)&P3)|Q1)\n",
      "((P1&P2)&P3)\n",
      "(P1&P2)\n",
      "P3\n",
      "Q1\n"
     ]
    },
    {
     "data": {
      "text/plain": [
       "'((P1|Q1)&(P2|Q1)&(P3|Q1))'"
      ]
     },
     "execution_count": 218,
     "metadata": {},
     "output_type": "execute_result"
    }
   ],
   "source": [
    "simplify(convert_to_cnf('(((P1&P2)&P3)|Q1)'))"
   ]
  },
  {
   "cell_type": "code",
   "execution_count": 212,
   "metadata": {
    "collapsed": false
   },
   "outputs": [
    {
     "name": "stdout",
     "output_type": "stream",
     "text": [
      "((P1&P2)&P3)\n",
      "(P1&P2)\n",
      "P3\n"
     ]
    },
    {
     "data": {
      "text/plain": [
       "'(((P1)&(P2))&(P3))'"
      ]
     },
     "execution_count": 212,
     "metadata": {},
     "output_type": "execute_result"
    }
   ],
   "source": [
    "convert_to_cnf('((P1&P2)&P3)')"
   ]
  },
  {
   "cell_type": "code",
   "execution_count": null,
   "metadata": {
    "collapsed": true
   },
   "outputs": [],
   "source": [
    "((((P1)|(Q1))&(((P1)|(Q2))&((P2))|(Q1))&((P2))|(Q2))&((P3)|(Q1))&((P3)|(Q2)))"
   ]
  },
  {
   "cell_type": "code",
   "execution_count": 197,
   "metadata": {
    "collapsed": false
   },
   "outputs": [
    {
     "name": "stdout",
     "output_type": "stream",
     "text": [
      "((A->B)&(B|C))\n",
      "(A->B)\n",
      "(~A|B)\n",
      "(B|C)\n"
     ]
    },
    {
     "data": {
      "text/plain": [
       "'((~A|B)&(B|C))'"
      ]
     },
     "execution_count": 197,
     "metadata": {},
     "output_type": "execute_result"
    }
   ],
   "source": [
    "convert_to_cnf('((A->B)&(B|C))')"
   ]
  },
  {
   "cell_type": "code",
   "execution_count": 196,
   "metadata": {
    "collapsed": false
   },
   "outputs": [
    {
     "name": "stdout",
     "output_type": "stream",
     "text": [
      "(A->B)\n",
      "(~A|B)\n"
     ]
    },
    {
     "data": {
      "text/plain": [
       "'(~A|B)'"
      ]
     },
     "execution_count": 196,
     "metadata": {},
     "output_type": "execute_result"
    }
   ],
   "source": [
    "convert_to_cnf('(A->B)')"
   ]
  },
  {
   "cell_type": "code",
   "execution_count": 82,
   "metadata": {
    "collapsed": true
   },
   "outputs": [],
   "source": [
    "t = re.search('^\\((\\~?\\(.*\\))\\&(\\~?\\(.*\\))\\)$', '(~(A&B)&(A&B))')"
   ]
  },
  {
   "cell_type": "code",
   "execution_count": 89,
   "metadata": {
    "collapsed": false
   },
   "outputs": [],
   "source": [
    "convert_to_cnf(t.group(1))"
   ]
  },
  {
   "cell_type": "code",
   "execution_count": 92,
   "metadata": {
    "collapsed": false
   },
   "outputs": [
    {
     "data": {
      "text/plain": [
       "['(A|B)', '(C|D)']"
      ]
     },
     "execution_count": 92,
     "metadata": {},
     "output_type": "execute_result"
    }
   ],
   "source": [
    "'((A|B)&(C|D))'[1:-1].split('&')"
   ]
  },
  {
   "cell_type": "code",
   "execution_count": 109,
   "metadata": {
    "collapsed": false
   },
   "outputs": [
    {
     "data": {
      "text/plain": [
       "True"
      ]
     },
     "execution_count": 109,
     "metadata": {},
     "output_type": "execute_result"
    }
   ],
   "source": [
    "evaluate('(~~F)', model)"
   ]
  },
  {
   "cell_type": "code",
   "execution_count": 95,
   "metadata": {
    "collapsed": false
   },
   "outputs": [
    {
     "data": {
      "text/plain": [
       "{'A': '0', 'B': '1', 'C': '0', 'D': '0', 'F': '1'}"
      ]
     },
     "execution_count": 95,
     "metadata": {},
     "output_type": "execute_result"
    }
   ],
   "source": [
    "model"
   ]
  },
  {
   "cell_type": "code",
   "execution_count": 108,
   "metadata": {
    "collapsed": false
   },
   "outputs": [
    {
     "data": {
      "text/plain": [
       "'1'"
      ]
     },
     "execution_count": 108,
     "metadata": {},
     "output_type": "execute_result"
    }
   ],
   "source": [
    "replace_negated('(~~1)')"
   ]
  },
  {
   "cell_type": "code",
   "execution_count": 100,
   "metadata": {
    "collapsed": false
   },
   "outputs": [
    {
     "data": {
      "text/plain": [
       "'(~0)'"
      ]
     },
     "execution_count": 100,
     "metadata": {},
     "output_type": "execute_result"
    }
   ],
   "source": [
    "simplify('(~(0))')"
   ]
  },
  {
   "cell_type": "code",
   "execution_count": 110,
   "metadata": {
    "collapsed": true
   },
   "outputs": [],
   "source": [
    "s = '(~(~((A->B)&(C->D))))'"
   ]
  },
  {
   "cell_type": "code",
   "execution_count": 111,
   "metadata": {
    "collapsed": true
   },
   "outputs": [],
   "source": [
    "parts = re.search('^\\(\\~\\(?\\~(.*)\\)$', s)"
   ]
  },
  {
   "cell_type": "code",
   "execution_count": 112,
   "metadata": {
    "collapsed": false
   },
   "outputs": [
    {
     "data": {
      "text/plain": [
       "'((A->B)&(C->D)))'"
      ]
     },
     "execution_count": 112,
     "metadata": {},
     "output_type": "execute_result"
    }
   ],
   "source": [
    "parts.group(1)"
   ]
  },
  {
   "cell_type": "code",
   "execution_count": 127,
   "metadata": {
    "collapsed": false
   },
   "outputs": [
    {
     "name": "stdout",
     "output_type": "stream",
     "text": [
      "(~(~A&B))\n",
      "(A&B)\n"
     ]
    },
    {
     "data": {
      "text/plain": [
       "'((A)&(B))'"
      ]
     },
     "execution_count": 127,
     "metadata": {},
     "output_type": "execute_result"
    }
   ],
   "source": [
    "convert_to_cnf('(~(~A&B))')"
   ]
  },
  {
   "cell_type": "code",
   "execution_count": 118,
   "metadata": {
    "collapsed": true
   },
   "outputs": [],
   "source": [
    "parts = re.search('^\\(\\~\\~(.*)\\)$', '(~~A)')"
   ]
  },
  {
   "cell_type": "code",
   "execution_count": 119,
   "metadata": {
    "collapsed": false
   },
   "outputs": [
    {
     "data": {
      "text/plain": [
       "'A'"
      ]
     },
     "execution_count": 119,
     "metadata": {},
     "output_type": "execute_result"
    }
   ],
   "source": [
    "parts.group(1)"
   ]
  },
  {
   "cell_type": "code",
   "execution_count": 120,
   "metadata": {
    "collapsed": false
   },
   "outputs": [
    {
     "data": {
      "text/plain": [
       "'(A)'"
      ]
     },
     "execution_count": 120,
     "metadata": {},
     "output_type": "execute_result"
    }
   ],
   "source": [
    "convert_to_cnf('A')"
   ]
  },
  {
   "cell_type": "code",
   "execution_count": 141,
   "metadata": {
    "collapsed": true
   },
   "outputs": [],
   "source": [
    "t = re.search('^\\((\\~?\\(.*\\))\\&(\\~?\\(.*\\))\\)$', '(~(A&B)&(A&B))')"
   ]
  },
  {
   "cell_type": "code",
   "execution_count": 142,
   "metadata": {
    "collapsed": false
   },
   "outputs": [
    {
     "data": {
      "text/plain": [
       "False"
      ]
     },
     "execution_count": 142,
     "metadata": {},
     "output_type": "execute_result"
    }
   ],
   "source": [
    "t == None"
   ]
  },
  {
   "cell_type": "code",
   "execution_count": 145,
   "metadata": {
    "collapsed": false
   },
   "outputs": [
    {
     "data": {
      "text/plain": [
       "'(A&B)'"
      ]
     },
     "execution_count": 145,
     "metadata": {},
     "output_type": "execute_result"
    }
   ],
   "source": [
    "t.group(2)"
   ]
  },
  {
   "cell_type": "code",
   "execution_count": 159,
   "metadata": {
    "collapsed": true
   },
   "outputs": [],
   "source": [
    "t = re.search('^\\((\\~?\\(.*\\))\\&(\\~?\\(.*\\))\\)$', '(~(A&B))')"
   ]
  },
  {
   "cell_type": "code",
   "execution_count": 161,
   "metadata": {
    "collapsed": false
   },
   "outputs": [],
   "source": [
    "t"
   ]
  },
  {
   "cell_type": "code",
   "execution_count": null,
   "metadata": {
    "collapsed": true
   },
   "outputs": [],
   "source": []
  }
 ],
 "metadata": {
  "kernelspec": {
   "display_name": "Python 2",
   "language": "python",
   "name": "python2"
  },
  "language_info": {
   "codemirror_mode": {
    "name": "ipython",
    "version": 2
   },
   "file_extension": ".py",
   "mimetype": "text/x-python",
   "name": "python",
   "nbconvert_exporter": "python",
   "pygments_lexer": "ipython2",
   "version": "2.7.10"
  }
 },
 "nbformat": 4,
 "nbformat_minor": 0
}
